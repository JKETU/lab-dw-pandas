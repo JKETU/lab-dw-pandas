{
 "cells": [
  {
   "cell_type": "markdown",
   "id": "25d7736c-ba17-4aff-b6bb-66eba20fbf4e",
   "metadata": {},
   "source": [
    "# Lab | Pandas"
   ]
  },
  {
   "cell_type": "markdown",
   "id": "d1973e9e-8be6-4039-b70e-d73ee0d94c99",
   "metadata": {},
   "source": [
    "In this lab, we will be working with the customer data from an insurance company, which can be found in the CSV file located at the following link: https://raw.githubusercontent.com/data-bootcamp-v4/data/main/file1.csv\n",
    "\n",
    "The data includes information such as customer ID, state, gender, education, income, and other variables that can be used to perform various analyses.\n",
    "\n",
    "Throughout the lab, we will be using the pandas library in Python to manipulate and analyze the data. Pandas is a powerful library that provides various data manipulation and analysis tools, including the ability to load and manipulate data from a variety of sources, including CSV files."
   ]
  },
  {
   "cell_type": "markdown",
   "id": "8045146f-f4f7-44d9-8cd9-130d6400c73a",
   "metadata": {},
   "source": [
    "### Data Description\n",
    "\n",
    "- Customer - Customer ID\n",
    "\n",
    "- ST - State where customers live\n",
    "\n",
    "- Gender - Gender of the customer\n",
    "\n",
    "- Education - Background education of customers \n",
    "\n",
    "- Customer Lifetime Value - Customer lifetime value(CLV) is the total revenue the client will derive from their entire relationship with a customer. In other words, is the predicted or calculated value of a customer over their entire duration as a policyholder with the insurance company. It is an estimation of the net profit that the insurance company expects to generate from a customer throughout their relationship with the company. Customer Lifetime Value takes into account factors such as the duration of the customer's policy, premium payments, claim history, renewal likelihood, and potential additional services or products the customer may purchase. It helps insurers assess the long-term profitability and value associated with retaining a particular customer.\n",
    "\n",
    "- Income - Customers income\n",
    "\n",
    "- Monthly Premium Auto - Amount of money the customer pays on a monthly basis as a premium for their auto insurance coverage. It represents the recurring cost that the insured person must pay to maintain their insurance policy and receive coverage for potential damages, accidents, or other covered events related to their vehicle.\n",
    "\n",
    "- Number of Open Complaints - Number of complaints the customer opened\n",
    "\n",
    "- Policy Type - There are three type of policies in car insurance (Corporate Auto, Personal Auto, and Special Auto)\n",
    "\n",
    "- Vehicle Class - Type of vehicle classes that customers have Two-Door Car, Four-Door Car SUV, Luxury SUV, Sports Car, and Luxury Car\n",
    "\n",
    "- Total Claim Amount - the sum of all claims made by the customer. It represents the total monetary value of all approved claims for incidents such as accidents, theft, vandalism, or other covered events.\n"
   ]
  },
  {
   "cell_type": "markdown",
   "id": "3a72419b-20fc-4905-817a-8c83abc59de6",
   "metadata": {},
   "source": [
    "External Resources: https://towardsdatascience.com/filtering-data-frames-in-pandas-b570b1f834b9"
   ]
  },
  {
   "cell_type": "markdown",
   "id": "8f8ece17-e919-4e23-96c0-c7c59778436a",
   "metadata": {},
   "source": [
    "## Challenge 1: Understanding the data\n",
    "\n",
    "In this challenge, you will use pandas to explore a given dataset. Your task is to gain a deep understanding of the data by analyzing its characteristics, dimensions, and statistical properties."
   ]
  },
  {
   "cell_type": "markdown",
   "id": "91437bd5-59a6-49c0-8150-ef0e6e6eb253",
   "metadata": {},
   "source": [
    "- Identify the dimensions of the dataset by determining the number of rows and columns it contains.\n",
    "- Determine the data types of each column and evaluate whether they are appropriate for the nature of the variable. You should also provide suggestions for fixing any incorrect data types.\n",
    "- Identify the number of unique values for each column and determine which columns appear to be categorical. You should also describe the unique values of each categorical column and the range of values for numerical columns, and give your insights.\n",
    "- Compute summary statistics such as mean, median, mode, standard deviation, and quartiles to understand the central tendency and distribution of the data for numerical columns. You should also provide your conclusions based on these summary statistics.\n",
    "- Compute summary statistics for categorical columns and providing your conclusions based on these statistics."
   ]
  },
  {
   "cell_type": "code",
   "execution_count": 1,
   "id": "dd4e8cd8-a6f6-486c-a5c4-1745b0c035f4",
   "metadata": {
    "tags": []
   },
   "outputs": [],
   "source": [
    "# Your code here\n",
    "import numpy as np\n",
    "import pandas as pd"
   ]
  },
  {
   "cell_type": "code",
   "execution_count": 9,
   "id": "5c5ca830-dd83-4c95-a826-68db6d1d1fb4",
   "metadata": {
    "tags": []
   },
   "outputs": [
    {
     "name": "stdout",
     "output_type": "stream",
     "text": [
      "     Customer          ST GENDER             Education  \\\n",
      "0     RB50392  Washington    NaN                Master   \n",
      "1     QZ44356     Arizona      F              Bachelor   \n",
      "2     AI49188      Nevada      F              Bachelor   \n",
      "3     WW63253  California      M              Bachelor   \n",
      "4     GA49547  Washington      M  High School or Below   \n",
      "...       ...         ...    ...                   ...   \n",
      "4003      NaN         NaN    NaN                   NaN   \n",
      "4004      NaN         NaN    NaN                   NaN   \n",
      "4005      NaN         NaN    NaN                   NaN   \n",
      "4006      NaN         NaN    NaN                   NaN   \n",
      "4007      NaN         NaN    NaN                   NaN   \n",
      "\n",
      "     Customer Lifetime Value   Income  Monthly Premium Auto  \\\n",
      "0                        NaN      0.0                1000.0   \n",
      "1                 697953.59%      0.0                  94.0   \n",
      "2                1288743.17%  48767.0                 108.0   \n",
      "3                 764586.18%      0.0                 106.0   \n",
      "4                 536307.65%  36357.0                  68.0   \n",
      "...                      ...      ...                   ...   \n",
      "4003                     NaN      NaN                   NaN   \n",
      "4004                     NaN      NaN                   NaN   \n",
      "4005                     NaN      NaN                   NaN   \n",
      "4006                     NaN      NaN                   NaN   \n",
      "4007                     NaN      NaN                   NaN   \n",
      "\n",
      "     Number of Open Complaints     Policy Type  Vehicle Class  \\\n",
      "0                       1/0/00   Personal Auto  Four-Door Car   \n",
      "1                       1/0/00   Personal Auto  Four-Door Car   \n",
      "2                       1/0/00   Personal Auto   Two-Door Car   \n",
      "3                       1/0/00  Corporate Auto            SUV   \n",
      "4                       1/0/00   Personal Auto  Four-Door Car   \n",
      "...                        ...             ...            ...   \n",
      "4003                       NaN             NaN            NaN   \n",
      "4004                       NaN             NaN            NaN   \n",
      "4005                       NaN             NaN            NaN   \n",
      "4006                       NaN             NaN            NaN   \n",
      "4007                       NaN             NaN            NaN   \n",
      "\n",
      "      Total Claim Amount  \n",
      "0               2.704934  \n",
      "1            1131.464935  \n",
      "2             566.472247  \n",
      "3             529.881344  \n",
      "4              17.269323  \n",
      "...                  ...  \n",
      "4003                 NaN  \n",
      "4004                 NaN  \n",
      "4005                 NaN  \n",
      "4006                 NaN  \n",
      "4007                 NaN  \n",
      "\n",
      "[4008 rows x 11 columns]\n"
     ]
    }
   ],
   "source": [
    "url = 'https://raw.githubusercontent.com/data-bootcamp-v4/data/main/file1.csv'\n",
    "customer_data = pd.read_csv(url)\n",
    "\n",
    "print(customer_data)\n"
   ]
  },
  {
   "cell_type": "code",
   "execution_count": 10,
   "id": "62f48295-07f4-4019-a85f-6bd5bb88c464",
   "metadata": {
    "tags": []
   },
   "outputs": [
    {
     "data": {
      "text/plain": [
       "(4008, 11)"
      ]
     },
     "execution_count": 10,
     "metadata": {},
     "output_type": "execute_result"
    }
   ],
   "source": [
    "customer_data.shape"
   ]
  },
  {
   "cell_type": "code",
   "execution_count": 16,
   "id": "652c4ce3-5d74-48db-8803-898aab1adff3",
   "metadata": {
    "tags": []
   },
   "outputs": [
    {
     "data": {
      "text/plain": [
       "Customer                      object\n",
       "ST                            object\n",
       "GENDER                        object\n",
       "Education                     object\n",
       "Customer Lifetime Value       object\n",
       "Income                       float64\n",
       "Monthly Premium Auto         float64\n",
       "Number of Open Complaints     object\n",
       "Policy Type                   object\n",
       "Vehicle Class                 object\n",
       "Total Claim Amount           float64\n",
       "dtype: object"
      ]
     },
     "execution_count": 16,
     "metadata": {},
     "output_type": "execute_result"
    }
   ],
   "source": [
    "customer_data.dtypes"
   ]
  },
  {
   "cell_type": "code",
   "execution_count": 19,
   "id": "2b319d46-415f-4257-9916-5c50a3a58732",
   "metadata": {
    "tags": []
   },
   "outputs": [
    {
     "data": {
      "text/html": [
       "<div>\n",
       "<style scoped>\n",
       "    .dataframe tbody tr th:only-of-type {\n",
       "        vertical-align: middle;\n",
       "    }\n",
       "\n",
       "    .dataframe tbody tr th {\n",
       "        vertical-align: top;\n",
       "    }\n",
       "\n",
       "    .dataframe thead th {\n",
       "        text-align: right;\n",
       "    }\n",
       "</style>\n",
       "<table border=\"1\" class=\"dataframe\">\n",
       "  <thead>\n",
       "    <tr style=\"text-align: right;\">\n",
       "      <th></th>\n",
       "      <th>Customer</th>\n",
       "      <th>ST</th>\n",
       "      <th>GENDER</th>\n",
       "      <th>Education</th>\n",
       "      <th>Customer Lifetime Value</th>\n",
       "      <th>Number of Open Complaints</th>\n",
       "      <th>Policy Type</th>\n",
       "      <th>Vehicle Class</th>\n",
       "    </tr>\n",
       "  </thead>\n",
       "  <tbody>\n",
       "    <tr>\n",
       "      <th>count</th>\n",
       "      <td>1071</td>\n",
       "      <td>1071</td>\n",
       "      <td>954</td>\n",
       "      <td>1071</td>\n",
       "      <td>1068</td>\n",
       "      <td>1071</td>\n",
       "      <td>1071</td>\n",
       "      <td>1071</td>\n",
       "    </tr>\n",
       "    <tr>\n",
       "      <th>unique</th>\n",
       "      <td>1071</td>\n",
       "      <td>8</td>\n",
       "      <td>5</td>\n",
       "      <td>6</td>\n",
       "      <td>1027</td>\n",
       "      <td>6</td>\n",
       "      <td>3</td>\n",
       "      <td>6</td>\n",
       "    </tr>\n",
       "    <tr>\n",
       "      <th>top</th>\n",
       "      <td>RB50392</td>\n",
       "      <td>Oregon</td>\n",
       "      <td>F</td>\n",
       "      <td>Bachelor</td>\n",
       "      <td>445811.34%</td>\n",
       "      <td>1/0/00</td>\n",
       "      <td>Personal Auto</td>\n",
       "      <td>Four-Door Car</td>\n",
       "    </tr>\n",
       "    <tr>\n",
       "      <th>freq</th>\n",
       "      <td>1</td>\n",
       "      <td>320</td>\n",
       "      <td>457</td>\n",
       "      <td>324</td>\n",
       "      <td>4</td>\n",
       "      <td>830</td>\n",
       "      <td>780</td>\n",
       "      <td>576</td>\n",
       "    </tr>\n",
       "  </tbody>\n",
       "</table>\n",
       "</div>"
      ],
      "text/plain": [
       "       Customer      ST GENDER Education Customer Lifetime Value  \\\n",
       "count      1071    1071    954      1071                    1068   \n",
       "unique     1071       8      5         6                    1027   \n",
       "top     RB50392  Oregon      F  Bachelor              445811.34%   \n",
       "freq          1     320    457       324                       4   \n",
       "\n",
       "       Number of Open Complaints    Policy Type  Vehicle Class  \n",
       "count                       1071           1071           1071  \n",
       "unique                         6              3              6  \n",
       "top                       1/0/00  Personal Auto  Four-Door Car  \n",
       "freq                         830            780            576  "
      ]
     },
     "execution_count": 19,
     "metadata": {},
     "output_type": "execute_result"
    }
   ],
   "source": [
    "#Customer ID has to be transform into numeric or integer\n",
    "#custumer life time value has to be in numeric not strings/object\n",
    "#Number of open compliance has to be an integer or numbers\n",
    "#NaN values has to be cleared or replace\n",
    "\n",
    "\n",
    "#To change these, we have to convert these columns into integer. We can use this code \n",
    "#df['your_column'] = pd.to_numeric(df['your_column'], errors='coerce')\n",
    "\n",
    "customer_data.describe(include=\"object\")"
   ]
  },
  {
   "cell_type": "code",
   "execution_count": 20,
   "id": "cf319c05-3325-40ed-becb-a5dd892984ee",
   "metadata": {
    "tags": []
   },
   "outputs": [
    {
     "data": {
      "text/html": [
       "<div>\n",
       "<style scoped>\n",
       "    .dataframe tbody tr th:only-of-type {\n",
       "        vertical-align: middle;\n",
       "    }\n",
       "\n",
       "    .dataframe tbody tr th {\n",
       "        vertical-align: top;\n",
       "    }\n",
       "\n",
       "    .dataframe thead th {\n",
       "        text-align: right;\n",
       "    }\n",
       "</style>\n",
       "<table border=\"1\" class=\"dataframe\">\n",
       "  <thead>\n",
       "    <tr style=\"text-align: right;\">\n",
       "      <th></th>\n",
       "      <th>Income</th>\n",
       "      <th>Monthly Premium Auto</th>\n",
       "      <th>Total Claim Amount</th>\n",
       "    </tr>\n",
       "  </thead>\n",
       "  <tbody>\n",
       "    <tr>\n",
       "      <th>count</th>\n",
       "      <td>1071.000000</td>\n",
       "      <td>1071.000000</td>\n",
       "      <td>1071.000000</td>\n",
       "    </tr>\n",
       "    <tr>\n",
       "      <th>mean</th>\n",
       "      <td>39295.701214</td>\n",
       "      <td>193.234360</td>\n",
       "      <td>404.986909</td>\n",
       "    </tr>\n",
       "    <tr>\n",
       "      <th>std</th>\n",
       "      <td>30469.427060</td>\n",
       "      <td>1601.190369</td>\n",
       "      <td>293.027260</td>\n",
       "    </tr>\n",
       "    <tr>\n",
       "      <th>min</th>\n",
       "      <td>0.000000</td>\n",
       "      <td>61.000000</td>\n",
       "      <td>0.382107</td>\n",
       "    </tr>\n",
       "    <tr>\n",
       "      <th>25%</th>\n",
       "      <td>14072.000000</td>\n",
       "      <td>68.000000</td>\n",
       "      <td>202.157702</td>\n",
       "    </tr>\n",
       "    <tr>\n",
       "      <th>50%</th>\n",
       "      <td>36234.000000</td>\n",
       "      <td>83.000000</td>\n",
       "      <td>354.729129</td>\n",
       "    </tr>\n",
       "    <tr>\n",
       "      <th>75%</th>\n",
       "      <td>64631.000000</td>\n",
       "      <td>109.500000</td>\n",
       "      <td>532.800000</td>\n",
       "    </tr>\n",
       "    <tr>\n",
       "      <th>max</th>\n",
       "      <td>99960.000000</td>\n",
       "      <td>35354.000000</td>\n",
       "      <td>2893.239678</td>\n",
       "    </tr>\n",
       "  </tbody>\n",
       "</table>\n",
       "</div>"
      ],
      "text/plain": [
       "             Income  Monthly Premium Auto  Total Claim Amount\n",
       "count   1071.000000           1071.000000         1071.000000\n",
       "mean   39295.701214            193.234360          404.986909\n",
       "std    30469.427060           1601.190369          293.027260\n",
       "min        0.000000             61.000000            0.382107\n",
       "25%    14072.000000             68.000000          202.157702\n",
       "50%    36234.000000             83.000000          354.729129\n",
       "75%    64631.000000            109.500000          532.800000\n",
       "max    99960.000000          35354.000000         2893.239678"
      ]
     },
     "execution_count": 20,
     "metadata": {},
     "output_type": "execute_result"
    }
   ],
   "source": [
    "customer_data.describe(include=\"float64\")"
   ]
  },
  {
   "cell_type": "code",
   "execution_count": 21,
   "id": "cd46c6d1-c56c-460c-aed9-f553572af93a",
   "metadata": {
    "tags": []
   },
   "outputs": [
    {
     "data": {
      "text/html": [
       "<div>\n",
       "<style scoped>\n",
       "    .dataframe tbody tr th:only-of-type {\n",
       "        vertical-align: middle;\n",
       "    }\n",
       "\n",
       "    .dataframe tbody tr th {\n",
       "        vertical-align: top;\n",
       "    }\n",
       "\n",
       "    .dataframe thead th {\n",
       "        text-align: right;\n",
       "    }\n",
       "</style>\n",
       "<table border=\"1\" class=\"dataframe\">\n",
       "  <thead>\n",
       "    <tr style=\"text-align: right;\">\n",
       "      <th></th>\n",
       "      <th>Customer</th>\n",
       "      <th>ST</th>\n",
       "      <th>GENDER</th>\n",
       "      <th>Education</th>\n",
       "      <th>Customer Lifetime Value</th>\n",
       "      <th>Income</th>\n",
       "      <th>Monthly Premium Auto</th>\n",
       "      <th>Number of Open Complaints</th>\n",
       "      <th>Policy Type</th>\n",
       "      <th>Vehicle Class</th>\n",
       "      <th>Total Claim Amount</th>\n",
       "    </tr>\n",
       "  </thead>\n",
       "  <tbody>\n",
       "    <tr>\n",
       "      <th>count</th>\n",
       "      <td>1071</td>\n",
       "      <td>1071</td>\n",
       "      <td>954</td>\n",
       "      <td>1071</td>\n",
       "      <td>1068</td>\n",
       "      <td>1071.000000</td>\n",
       "      <td>1071.000000</td>\n",
       "      <td>1071</td>\n",
       "      <td>1071</td>\n",
       "      <td>1071</td>\n",
       "      <td>1071.000000</td>\n",
       "    </tr>\n",
       "    <tr>\n",
       "      <th>unique</th>\n",
       "      <td>1071</td>\n",
       "      <td>8</td>\n",
       "      <td>5</td>\n",
       "      <td>6</td>\n",
       "      <td>1027</td>\n",
       "      <td>NaN</td>\n",
       "      <td>NaN</td>\n",
       "      <td>6</td>\n",
       "      <td>3</td>\n",
       "      <td>6</td>\n",
       "      <td>NaN</td>\n",
       "    </tr>\n",
       "    <tr>\n",
       "      <th>top</th>\n",
       "      <td>RB50392</td>\n",
       "      <td>Oregon</td>\n",
       "      <td>F</td>\n",
       "      <td>Bachelor</td>\n",
       "      <td>445811.34%</td>\n",
       "      <td>NaN</td>\n",
       "      <td>NaN</td>\n",
       "      <td>1/0/00</td>\n",
       "      <td>Personal Auto</td>\n",
       "      <td>Four-Door Car</td>\n",
       "      <td>NaN</td>\n",
       "    </tr>\n",
       "    <tr>\n",
       "      <th>freq</th>\n",
       "      <td>1</td>\n",
       "      <td>320</td>\n",
       "      <td>457</td>\n",
       "      <td>324</td>\n",
       "      <td>4</td>\n",
       "      <td>NaN</td>\n",
       "      <td>NaN</td>\n",
       "      <td>830</td>\n",
       "      <td>780</td>\n",
       "      <td>576</td>\n",
       "      <td>NaN</td>\n",
       "    </tr>\n",
       "    <tr>\n",
       "      <th>mean</th>\n",
       "      <td>NaN</td>\n",
       "      <td>NaN</td>\n",
       "      <td>NaN</td>\n",
       "      <td>NaN</td>\n",
       "      <td>NaN</td>\n",
       "      <td>39295.701214</td>\n",
       "      <td>193.234360</td>\n",
       "      <td>NaN</td>\n",
       "      <td>NaN</td>\n",
       "      <td>NaN</td>\n",
       "      <td>404.986909</td>\n",
       "    </tr>\n",
       "    <tr>\n",
       "      <th>std</th>\n",
       "      <td>NaN</td>\n",
       "      <td>NaN</td>\n",
       "      <td>NaN</td>\n",
       "      <td>NaN</td>\n",
       "      <td>NaN</td>\n",
       "      <td>30469.427060</td>\n",
       "      <td>1601.190369</td>\n",
       "      <td>NaN</td>\n",
       "      <td>NaN</td>\n",
       "      <td>NaN</td>\n",
       "      <td>293.027260</td>\n",
       "    </tr>\n",
       "    <tr>\n",
       "      <th>min</th>\n",
       "      <td>NaN</td>\n",
       "      <td>NaN</td>\n",
       "      <td>NaN</td>\n",
       "      <td>NaN</td>\n",
       "      <td>NaN</td>\n",
       "      <td>0.000000</td>\n",
       "      <td>61.000000</td>\n",
       "      <td>NaN</td>\n",
       "      <td>NaN</td>\n",
       "      <td>NaN</td>\n",
       "      <td>0.382107</td>\n",
       "    </tr>\n",
       "    <tr>\n",
       "      <th>25%</th>\n",
       "      <td>NaN</td>\n",
       "      <td>NaN</td>\n",
       "      <td>NaN</td>\n",
       "      <td>NaN</td>\n",
       "      <td>NaN</td>\n",
       "      <td>14072.000000</td>\n",
       "      <td>68.000000</td>\n",
       "      <td>NaN</td>\n",
       "      <td>NaN</td>\n",
       "      <td>NaN</td>\n",
       "      <td>202.157702</td>\n",
       "    </tr>\n",
       "    <tr>\n",
       "      <th>50%</th>\n",
       "      <td>NaN</td>\n",
       "      <td>NaN</td>\n",
       "      <td>NaN</td>\n",
       "      <td>NaN</td>\n",
       "      <td>NaN</td>\n",
       "      <td>36234.000000</td>\n",
       "      <td>83.000000</td>\n",
       "      <td>NaN</td>\n",
       "      <td>NaN</td>\n",
       "      <td>NaN</td>\n",
       "      <td>354.729129</td>\n",
       "    </tr>\n",
       "    <tr>\n",
       "      <th>75%</th>\n",
       "      <td>NaN</td>\n",
       "      <td>NaN</td>\n",
       "      <td>NaN</td>\n",
       "      <td>NaN</td>\n",
       "      <td>NaN</td>\n",
       "      <td>64631.000000</td>\n",
       "      <td>109.500000</td>\n",
       "      <td>NaN</td>\n",
       "      <td>NaN</td>\n",
       "      <td>NaN</td>\n",
       "      <td>532.800000</td>\n",
       "    </tr>\n",
       "    <tr>\n",
       "      <th>max</th>\n",
       "      <td>NaN</td>\n",
       "      <td>NaN</td>\n",
       "      <td>NaN</td>\n",
       "      <td>NaN</td>\n",
       "      <td>NaN</td>\n",
       "      <td>99960.000000</td>\n",
       "      <td>35354.000000</td>\n",
       "      <td>NaN</td>\n",
       "      <td>NaN</td>\n",
       "      <td>NaN</td>\n",
       "      <td>2893.239678</td>\n",
       "    </tr>\n",
       "  </tbody>\n",
       "</table>\n",
       "</div>"
      ],
      "text/plain": [
       "       Customer      ST GENDER Education Customer Lifetime Value  \\\n",
       "count      1071    1071    954      1071                    1068   \n",
       "unique     1071       8      5         6                    1027   \n",
       "top     RB50392  Oregon      F  Bachelor              445811.34%   \n",
       "freq          1     320    457       324                       4   \n",
       "mean        NaN     NaN    NaN       NaN                     NaN   \n",
       "std         NaN     NaN    NaN       NaN                     NaN   \n",
       "min         NaN     NaN    NaN       NaN                     NaN   \n",
       "25%         NaN     NaN    NaN       NaN                     NaN   \n",
       "50%         NaN     NaN    NaN       NaN                     NaN   \n",
       "75%         NaN     NaN    NaN       NaN                     NaN   \n",
       "max         NaN     NaN    NaN       NaN                     NaN   \n",
       "\n",
       "              Income  Monthly Premium Auto Number of Open Complaints  \\\n",
       "count    1071.000000           1071.000000                      1071   \n",
       "unique           NaN                   NaN                         6   \n",
       "top              NaN                   NaN                    1/0/00   \n",
       "freq             NaN                   NaN                       830   \n",
       "mean    39295.701214            193.234360                       NaN   \n",
       "std     30469.427060           1601.190369                       NaN   \n",
       "min         0.000000             61.000000                       NaN   \n",
       "25%     14072.000000             68.000000                       NaN   \n",
       "50%     36234.000000             83.000000                       NaN   \n",
       "75%     64631.000000            109.500000                       NaN   \n",
       "max     99960.000000          35354.000000                       NaN   \n",
       "\n",
       "          Policy Type  Vehicle Class  Total Claim Amount  \n",
       "count            1071           1071         1071.000000  \n",
       "unique              3              6                 NaN  \n",
       "top     Personal Auto  Four-Door Car                 NaN  \n",
       "freq              780            576                 NaN  \n",
       "mean              NaN            NaN          404.986909  \n",
       "std               NaN            NaN          293.027260  \n",
       "min               NaN            NaN            0.382107  \n",
       "25%               NaN            NaN          202.157702  \n",
       "50%               NaN            NaN          354.729129  \n",
       "75%               NaN            NaN          532.800000  \n",
       "max               NaN            NaN         2893.239678  "
      ]
     },
     "execution_count": 21,
     "metadata": {},
     "output_type": "execute_result"
    }
   ],
   "source": [
    "customer_data.describe(include=\"all\")"
   ]
  },
  {
   "cell_type": "code",
   "execution_count": 22,
   "id": "133274b6-5b0b-4d22-8cd1-1bfd011309d6",
   "metadata": {
    "tags": []
   },
   "outputs": [
    {
     "name": "stdout",
     "output_type": "stream",
     "text": [
      "<class 'pandas.core.frame.DataFrame'>\n",
      "RangeIndex: 4008 entries, 0 to 4007\n",
      "Data columns (total 11 columns):\n",
      " #   Column                     Non-Null Count  Dtype  \n",
      "---  ------                     --------------  -----  \n",
      " 0   Customer                   1071 non-null   object \n",
      " 1   ST                         1071 non-null   object \n",
      " 2   GENDER                     954 non-null    object \n",
      " 3   Education                  1071 non-null   object \n",
      " 4   Customer Lifetime Value    1068 non-null   object \n",
      " 5   Income                     1071 non-null   float64\n",
      " 6   Monthly Premium Auto       1071 non-null   float64\n",
      " 7   Number of Open Complaints  1071 non-null   object \n",
      " 8   Policy Type                1071 non-null   object \n",
      " 9   Vehicle Class              1071 non-null   object \n",
      " 10  Total Claim Amount         1071 non-null   float64\n",
      "dtypes: float64(3), object(8)\n",
      "memory usage: 344.6+ KB\n"
     ]
    }
   ],
   "source": [
    "customer_data.info()"
   ]
  },
  {
   "cell_type": "code",
   "execution_count": 24,
   "id": "c6c3d944-35ce-4273-aa11-e461003ee8b6",
   "metadata": {
    "tags": []
   },
   "outputs": [
    {
     "data": {
      "text/plain": [
       "Customer                     1071\n",
       "ST                              8\n",
       "GENDER                          5\n",
       "Education                       6\n",
       "Customer Lifetime Value      1027\n",
       "Income                        774\n",
       "Monthly Premium Auto          132\n",
       "Number of Open Complaints       6\n",
       "Policy Type                     3\n",
       "Vehicle Class                   6\n",
       "Total Claim Amount            761\n",
       "dtype: int64"
      ]
     },
     "execution_count": 24,
     "metadata": {},
     "output_type": "execute_result"
    }
   ],
   "source": [
    "#unique element\n",
    "customer_data.nunique()"
   ]
  },
  {
   "cell_type": "code",
   "execution_count": 26,
   "id": "1f2eba88-edb6-4a6e-bba3-56e37946321d",
   "metadata": {
    "tags": []
   },
   "outputs": [
    {
     "data": {
      "text/plain": [
       "array([nan, 'F', 'M', 'Femal', 'Male', 'female'], dtype=object)"
      ]
     },
     "execution_count": 26,
     "metadata": {},
     "output_type": "execute_result"
    }
   ],
   "source": [
    "customer_data.GENDER.unique()"
   ]
  },
  {
   "cell_type": "code",
   "execution_count": 34,
   "id": "ccdca2aa-48c0-49cc-a2fc-1e1e0febc6a2",
   "metadata": {
    "tags": []
   },
   "outputs": [
    {
     "data": {
      "text/plain": [
       "array(['RB50392', 'QZ44356', 'AI49188', ..., 'CW49887', 'MY31220', nan],\n",
       "      dtype=object)"
      ]
     },
     "execution_count": 34,
     "metadata": {},
     "output_type": "execute_result"
    }
   ],
   "source": [
    "customer_data.Customer.unique()"
   ]
  },
  {
   "cell_type": "code",
   "execution_count": 35,
   "id": "86d440a4-f488-47b5-966c-d7b7c4ab2e62",
   "metadata": {
    "tags": []
   },
   "outputs": [
    {
     "data": {
      "text/plain": [
       "array(['Master', 'Bachelor', 'High School or Below', 'College',\n",
       "       'Bachelors', 'Doctor', nan], dtype=object)"
      ]
     },
     "execution_count": 35,
     "metadata": {},
     "output_type": "execute_result"
    }
   ],
   "source": [
    "customer_data.Education.unique()"
   ]
  },
  {
   "cell_type": "code",
   "execution_count": 29,
   "id": "5a056289-4c1d-42a8-820f-bd72d6a987ee",
   "metadata": {
    "tags": []
   },
   "outputs": [],
   "source": [
    "#print(\"Number of unique values per column:\")\n",
    "#print(unique_values)"
   ]
  },
  {
   "cell_type": "code",
   "execution_count": 33,
   "id": "ecbb9ae4-56d2-4bc0-b109-cd14d26cb81d",
   "metadata": {
    "tags": []
   },
   "outputs": [
    {
     "name": "stdout",
     "output_type": "stream",
     "text": [
      "['Customer', 'ST', 'GENDER', 'Education', 'Customer Lifetime Value', 'Monthly Premium Auto', 'Number of Open Complaints', 'Policy Type', 'Vehicle Class']\n",
      "['Income', 'Total Claim Amount']\n"
     ]
    }
   ],
   "source": [
    "categorical_columns = [col for col in customer_data.columns if customer_data[col].nunique() < len(customer_data) * 0.1 or customer_data[col].dtype == 'object']\n",
    "numerical_columns = [col for col in customer_data.columns if col not in categorical_columns]\n",
    "print(categorical_columns)\n",
    "print(numerical_columns)"
   ]
  },
  {
   "cell_type": "code",
   "execution_count": 40,
   "id": "b8ffc25b-2548-4097-98b6-784d0e57ed59",
   "metadata": {
    "tags": []
   },
   "outputs": [],
   "source": [
    "#categorical_columns = [col for col in customer_data.columns if customer_data[col].nunique() < len(customer_data) * 0.1 or customer_data[col].dtype == 'object']\n",
    "#numerical_columns = [col for col in customer_data.columns if col not in categorical_columns]\n",
    "\n",
    "#categorical_descriptions = {col: customer_data[col].unique() for col in categorical_columns}\n",
    "#numerical_ranges = {col: (customer_data[col].min(), customer_data[col].max()) for col in numerical_columns}\n",
    "\n",
    "#print(\"Unique Counts:\\n\", unique_counts)\n",
    "#print(\"\\nCategorical Columns:\", categorical_columns)\n",
    "#print(\"\\nCategorical Descriptions:\", categorical_descriptions)\n",
    "#print(\"\\nNumerical Ranges:\", numerical_ranges)"
   ]
  },
  {
   "cell_type": "code",
   "execution_count": 41,
   "id": "f4ea6b73-e3a8-4305-8b96-81cd53ae6f2e",
   "metadata": {
    "tags": []
   },
   "outputs": [
    {
     "data": {
      "text/html": [
       "<div>\n",
       "<style scoped>\n",
       "    .dataframe tbody tr th:only-of-type {\n",
       "        vertical-align: middle;\n",
       "    }\n",
       "\n",
       "    .dataframe tbody tr th {\n",
       "        vertical-align: top;\n",
       "    }\n",
       "\n",
       "    .dataframe thead th {\n",
       "        text-align: right;\n",
       "    }\n",
       "</style>\n",
       "<table border=\"1\" class=\"dataframe\">\n",
       "  <thead>\n",
       "    <tr style=\"text-align: right;\">\n",
       "      <th></th>\n",
       "      <th>Income</th>\n",
       "      <th>Monthly Premium Auto</th>\n",
       "      <th>Total Claim Amount</th>\n",
       "    </tr>\n",
       "  </thead>\n",
       "  <tbody>\n",
       "    <tr>\n",
       "      <th>0</th>\n",
       "      <td>0.0</td>\n",
       "      <td>1000.0</td>\n",
       "      <td>2.704934</td>\n",
       "    </tr>\n",
       "    <tr>\n",
       "      <th>1</th>\n",
       "      <td>0.0</td>\n",
       "      <td>94.0</td>\n",
       "      <td>1131.464935</td>\n",
       "    </tr>\n",
       "    <tr>\n",
       "      <th>2</th>\n",
       "      <td>48767.0</td>\n",
       "      <td>108.0</td>\n",
       "      <td>566.472247</td>\n",
       "    </tr>\n",
       "    <tr>\n",
       "      <th>3</th>\n",
       "      <td>0.0</td>\n",
       "      <td>106.0</td>\n",
       "      <td>529.881344</td>\n",
       "    </tr>\n",
       "    <tr>\n",
       "      <th>4</th>\n",
       "      <td>36357.0</td>\n",
       "      <td>68.0</td>\n",
       "      <td>17.269323</td>\n",
       "    </tr>\n",
       "    <tr>\n",
       "      <th>...</th>\n",
       "      <td>...</td>\n",
       "      <td>...</td>\n",
       "      <td>...</td>\n",
       "    </tr>\n",
       "    <tr>\n",
       "      <th>4003</th>\n",
       "      <td>NaN</td>\n",
       "      <td>NaN</td>\n",
       "      <td>NaN</td>\n",
       "    </tr>\n",
       "    <tr>\n",
       "      <th>4004</th>\n",
       "      <td>NaN</td>\n",
       "      <td>NaN</td>\n",
       "      <td>NaN</td>\n",
       "    </tr>\n",
       "    <tr>\n",
       "      <th>4005</th>\n",
       "      <td>NaN</td>\n",
       "      <td>NaN</td>\n",
       "      <td>NaN</td>\n",
       "    </tr>\n",
       "    <tr>\n",
       "      <th>4006</th>\n",
       "      <td>NaN</td>\n",
       "      <td>NaN</td>\n",
       "      <td>NaN</td>\n",
       "    </tr>\n",
       "    <tr>\n",
       "      <th>4007</th>\n",
       "      <td>NaN</td>\n",
       "      <td>NaN</td>\n",
       "      <td>NaN</td>\n",
       "    </tr>\n",
       "  </tbody>\n",
       "</table>\n",
       "<p>4008 rows × 3 columns</p>\n",
       "</div>"
      ],
      "text/plain": [
       "       Income  Monthly Premium Auto  Total Claim Amount\n",
       "0         0.0                1000.0            2.704934\n",
       "1         0.0                  94.0         1131.464935\n",
       "2     48767.0                 108.0          566.472247\n",
       "3         0.0                 106.0          529.881344\n",
       "4     36357.0                  68.0           17.269323\n",
       "...       ...                   ...                 ...\n",
       "4003      NaN                   NaN                 NaN\n",
       "4004      NaN                   NaN                 NaN\n",
       "4005      NaN                   NaN                 NaN\n",
       "4006      NaN                   NaN                 NaN\n",
       "4007      NaN                   NaN                 NaN\n",
       "\n",
       "[4008 rows x 3 columns]"
      ]
     },
     "execution_count": 41,
     "metadata": {},
     "output_type": "execute_result"
    }
   ],
   "source": [
    "customer_data.select_dtypes(include=['int','float'])"
   ]
  },
  {
   "cell_type": "code",
   "execution_count": null,
   "id": "2134a0f1-1f02-4b67-8e7e-0e98fc6e065e",
   "metadata": {
    "tags": []
   },
   "outputs": [],
   "source": []
  },
  {
   "cell_type": "markdown",
   "id": "4a703890-63db-4944-b7ab-95a4f8185120",
   "metadata": {},
   "source": [
    "## Challenge 2: analyzing the data"
   ]
  },
  {
   "cell_type": "markdown",
   "id": "0776a403-c56a-452f-ac33-5fd4fdb06fc7",
   "metadata": {},
   "source": [
    "### Exercise 1"
   ]
  },
  {
   "cell_type": "markdown",
   "id": "eedbc484-da4d-4f9c-9343-e1d44311a87e",
   "metadata": {},
   "source": [
    "The marketing team wants to know the top 5 less common customer locations. Create a pandas Series object that contains the customer locations and their frequencies, and then retrieve the top 5 less common locations in ascending order."
   ]
  },
  {
   "cell_type": "code",
   "execution_count": 48,
   "id": "2dca5073-4520-4f42-9390-4b92733284ed",
   "metadata": {
    "tags": []
   },
   "outputs": [
    {
     "name": "stdout",
     "output_type": "stream",
     "text": [
      "AZ             25\n",
      "WA             30\n",
      "Washington     81\n",
      "Nevada         98\n",
      "Cali          120\n",
      "Name: ST, dtype: int64\n"
     ]
    }
   ],
   "source": [
    "# Your code here\n",
    "location_counts = customer_data['ST'].value_counts(ascending=True) \n",
    "\n",
    "#top 5 less common locations\n",
    "top_5_less_common_locations = location_counts.head(5)\n",
    "print(top_5_less_common_locations)"
   ]
  },
  {
   "cell_type": "markdown",
   "id": "0ce80f43-4afa-43c7-a78a-c917444da4e0",
   "metadata": {},
   "source": [
    "### Exercise 2\n",
    "\n",
    "The sales team wants to know the total number of policies sold for each type of policy. Create a pandas Series object that contains the policy types and their total number of policies sold, and then retrieve the policy type with the highest number of policies sold."
   ]
  },
  {
   "cell_type": "markdown",
   "id": "a9f13997-1555-4f98-aca6-970fda1d2c3f",
   "metadata": {},
   "source": [
    "*Hint:*\n",
    "- *Using value_counts() method simplifies this analysis.*\n",
    "- *Futhermore, there is a method that returns the index of the maximum value in a column or row.*\n"
   ]
  },
  {
   "cell_type": "code",
   "execution_count": 62,
   "id": "bcfad6c1-9af2-4b0b-9aa9-0dc5c17473c0",
   "metadata": {
    "tags": []
   },
   "outputs": [
    {
     "name": "stdout",
     "output_type": "stream",
     "text": [
      "Policy Count:\n",
      " Personal Auto     780\n",
      "Corporate Auto    234\n",
      "Special Auto       57\n",
      "Name: Policy Type, dtype: int64\n",
      "\n",
      "Policy Type with the Highest Number of Policies Sold: Personal Auto\n"
     ]
    }
   ],
   "source": [
    "# Your code here\n",
    "policy_count = customer_data['Policy Type'].value_counts()\n",
    "highest_policy_type = policy_count.idxmax()\n",
    "\n",
    "#print(policy_count)\n",
    "\n",
    "print(\"Policy Count:\\n\", policy_count)\n",
    "print(\"\\nPolicy Type with the Highest Number of Policies Sold:\", highest_policy_type)"
   ]
  },
  {
   "cell_type": "markdown",
   "id": "0b863fd3-bf91-4d5d-86eb-be29ed9f5b70",
   "metadata": {},
   "source": [
    "### Exercise 3\n",
    "\n",
    "The sales team wants to know if customers with Personal Auto have a lower income than those with Corporate Auto. How does the average income compare between the two policy types?"
   ]
  },
  {
   "cell_type": "markdown",
   "id": "b1386d75-2810-4aa1-93e0-9485aa12d552",
   "metadata": {},
   "source": [
    "- Use *loc* to create two dataframes: one containing only Personal Auto policies and one containing only Corporate Auto policies.\n",
    "- Calculate the average income for each policy.\n",
    "- Print the results."
   ]
  },
  {
   "cell_type": "code",
   "execution_count": 65,
   "id": "0c0563cf-6f8b-463d-a321-651a972f82e5",
   "metadata": {
    "tags": []
   },
   "outputs": [
    {
     "name": "stdout",
     "output_type": "stream",
     "text": [
      "Avearage income for personal auto: 38180.69871794872\n",
      "Avearage income for corporate auto: 41390.31196581197\n"
     ]
    }
   ],
   "source": [
    "# Your code here\n",
    "personal_auto_df = customer_data.loc[customer_data['Policy Type'] == 'Personal Auto']\n",
    "corporate_auto_df = customer_data.loc[customer_data['Policy Type'] == 'Corporate Auto']\n",
    "\n",
    "average_income_personal = personal_auto_df['Income'].mean()\n",
    "average_income_corporate = corporate_auto_df['Income'].mean()\n",
    "\n",
    "print (\"Avearage income for personal auto:\", average_income_personal)\n",
    "print (\"Avearage income for corporate auto:\", average_income_corporate)"
   ]
  },
  {
   "cell_type": "markdown",
   "id": "80b16c27-f4a5-4727-a229-1f88671cf4e2",
   "metadata": {},
   "source": [
    "### Bonus: Exercise 4\n"
   ]
  },
  {
   "cell_type": "markdown",
   "id": "ac584986-299b-475f-ac2e-928c16c3f512",
   "metadata": {},
   "source": [
    "Your goal is to identify customers with a high policy claim amount.\n",
    "\n",
    "Instructions:\n",
    "\n",
    "- Review again the statistics for total claim amount to gain an understanding of the data.\n",
    "- To identify potential areas for improving customer retention and profitability, we want to focus on customers with a high policy claim amount. Consider customers with a high policy claim amount to be those in the top 25% of the total claim amount. Create a pandas DataFrame object that contains information about customers with a policy claim amount greater than the 75th percentile.\n",
    "- Use DataFrame methods to calculate summary statistics about the high policy claim amount data. "
   ]
  },
  {
   "cell_type": "markdown",
   "id": "4e3af5f1-6023-4b05-9c01-d05392daa650",
   "metadata": {},
   "source": [
    "*Note: When analyzing data, we often want to focus on certain groups of values to gain insights. Percentiles are a useful tool to help us define these groups. A percentile is a measure that tells us what percentage of values in a dataset are below a certain value. For example, the 75th percentile represents the value below which 75% of the data falls. Similarly, the 25th percentile represents the value below which 25% of the data falls. When we talk about the top 25%, we are referring to the values that fall above the 75th percentile, which represent the top quarter of the data. On the other hand, when we talk about the bottom 25%, we are referring to the values that fall below the 25th percentile, which represent the bottom quarter of the data. By focusing on these groups, we can identify patterns and trends that may be useful for making decisions and taking action.*\n",
    "\n",
    "*Hint: look for a method that gives you the percentile or quantile 0.75 and 0.25 for a Pandas Series.*"
   ]
  },
  {
   "cell_type": "markdown",
   "id": "2d234634-50bd-41e0-88f7-d5ba684455d1",
   "metadata": {},
   "source": [
    "*Hint 2: check `Boolean selection according to the values of a single column` in https://towardsdatascience.com/filtering-data-frames-in-pandas-b570b1f834b9*"
   ]
  },
  {
   "cell_type": "code",
   "execution_count": 67,
   "id": "b731bca6-a760-4860-a27b-a33efa712ce0",
   "metadata": {
    "tags": []
   },
   "outputs": [
    {
     "name": "stdout",
     "output_type": "stream",
     "text": [
      "75th Percentile of Total Claim Amount: 532.8\n",
      "\n",
      "Summary Statistics for High Claim Amounts:\n",
      "              Income  Monthly Premium Auto  Total Claim Amount\n",
      "count    264.000000            264.000000          264.000000\n",
      "mean   23677.344697            165.193182          782.228263\n",
      "std    27013.483721            623.930992          292.751640\n",
      "min        0.000000             63.000000          537.600000\n",
      "25%        0.000000             99.000000          606.521741\n",
      "50%    18807.000000            114.000000          679.597985\n",
      "75%    42423.750000            133.250000          851.400000\n",
      "max    99316.000000          10202.000000         2893.239678\n"
     ]
    }
   ],
   "source": [
    "# Your code here\n",
    "import pandas as pd\n",
    "\n",
    "# Assuming your dataset is loaded into 'data'\n",
    "# data = pd.read_csv('your_file.csv')\n",
    "\n",
    "# Calculate the 75th percentile for the total claim amount\n",
    "percentile_75 = customer_data['Total Claim Amount'].quantile(0.75)\n",
    "\n",
    "# Filter the DataFrame to only include claims above the 75th percentile\n",
    "high_claim_data = customer_data[customer_data['Total Claim Amount'] > percentile_75]\n",
    "\n",
    "# Calculate summary statistics for the filtered data\n",
    "summary_statistics = high_claim_data.describe()\n",
    "\n",
    "# Print the 75th percentile and the summary statistics\n",
    "print(\"75th Percentile of Total Claim Amount:\", percentile_75)\n",
    "print(\"\\nSummary Statistics for High Claim Amounts:\\n\", summary_statistics)\n"
   ]
  },
  {
   "cell_type": "code",
   "execution_count": null,
   "id": "a7a78a7f-f7ce-48fb-9979-a5262879671a",
   "metadata": {},
   "outputs": [],
   "source": []
  }
 ],
 "metadata": {
  "kernelspec": {
   "display_name": "Python 3 (ipykernel)",
   "language": "python",
   "name": "python3"
  },
  "language_info": {
   "codemirror_mode": {
    "name": "ipython",
    "version": 3
   },
   "file_extension": ".py",
   "mimetype": "text/x-python",
   "name": "python",
   "nbconvert_exporter": "python",
   "pygments_lexer": "ipython3",
   "version": "3.11.3"
  }
 },
 "nbformat": 4,
 "nbformat_minor": 5
}
